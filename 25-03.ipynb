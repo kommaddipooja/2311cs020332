{
 "cells": [
  {
   "cell_type": "code",
   "execution_count": 1,
   "id": "eb245d16-6989-4ae3-8cc1-cd81bed80708",
   "metadata": {},
   "outputs": [],
   "source": [
    "import pandas as pd\n",
    "import numpy as np\n",
    "from sklearn.feature_extraction.text import CountVectorizer, TfidfVectorizer  # Corrected import\n",
    "from sklearn import svm\n",
    "from sklearn.svm import SVC\n",
    "from sklearn.model_selection import GridSearchCV  # Fixed typo (model_selection)\n",
    "from sklearn.metrics import accuracy_score, confusion_matrix  # Fixed typo\n",
    "from sklearn.model_selection import train_test_split, cross_val_score  # Fixed typo (train_test_split)\n"
   ]
  },
  {
   "cell_type": "code",
   "execution_count": 2,
   "id": "e6dfaced-370b-48c5-91ed-f39a06f54c3f",
   "metadata": {},
   "outputs": [],
   "source": [
    "filename = 'pima-indians-diabetes.data.csv'\n",
    "names = ['preg', 'plas', 'pres', 'skin', 'test', 'mass', 'pedi', 'age', 'class']  \n",
    "dataframe = pd.read_csv(filename, names=names)\n",
    "array = dataframe.values\n",
    "X = array[:, 0:8]  \n",
    "Y = array[:, 8]     "
   ]
  },
  {
   "cell_type": "code",
   "execution_count": 3,
   "id": "f7a62caa-0e8d-4797-a875-5de88696c07f",
   "metadata": {},
   "outputs": [],
   "source": [
    "X_train,X_test,y_train,y_test=train_test_split(X,Y,test_size=0.3)"
   ]
  },
  {
   "cell_type": "code",
   "execution_count": 4,
   "id": "02c57d03-c4a2-4573-9073-a7776a4fd4d0",
   "metadata": {},
   "outputs": [],
   "source": [
    "X_train_raw, X_test_raw, Y_train, Y_test = train_test_split(X, Y, test_size=0.3)"
   ]
  },
  {
   "cell_type": "code",
   "execution_count": null,
   "id": "59458591-7e1f-4b10-990d-d528ff25541c",
   "metadata": {},
   "outputs": [],
   "source": []
  }
 ],
 "metadata": {
  "kernelspec": {
   "display_name": "Python [conda env:base] *",
   "language": "python",
   "name": "conda-base-py"
  },
  "language_info": {
   "codemirror_mode": {
    "name": "ipython",
    "version": 3
   },
   "file_extension": ".py",
   "mimetype": "text/x-python",
   "name": "python",
   "nbconvert_exporter": "python",
   "pygments_lexer": "ipython3",
   "version": "3.12.7"
  }
 },
 "nbformat": 4,
 "nbformat_minor": 5
}
