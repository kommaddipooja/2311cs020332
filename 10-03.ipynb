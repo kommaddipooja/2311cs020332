{
 "cells": [
  {
   "cell_type": "markdown",
   "id": "8c786610-7c64-46b4-8544-26960d3c0c17",
   "metadata": {},
   "source": [
    "### for classification \n",
    "1) apply smote(simple minority over technique)technique\n",
    "2) build the models\n",
    "   1) logistic regession\n",
    "   2) decision tree\n",
    "   3) random forest\n",
    "   4) grandient booost\n",
    "   5) ada boost\n",
    "   6) knn\n",
    "   7) svm\n",
    "   8) navie bayes\n",
    "3) Hyper paramrter tuning\n",
    "   1) cross validation\n",
    "4) deploy the best model in streamlit or flask\n",
    "\n",
    "### for regression\n",
    "1) apply models\n",
    "   1) linear regression\n",
    "   2) decision tree\n",
    "   3) random forest\n",
    "   4) grandent boost\n",
    "   5) knn\n",
    "\n",
    "### clustering \n",
    "1) apply the models\n",
    "    1) k-means\n",
    "    2) DBSCAN\n",
    "    3) Hierachical\n",
    "    4) deploy the best model in stremlit or flask"
   ]
  },
  {
   "cell_type": "code",
   "execution_count": null,
   "id": "8ab262ac-6b62-4538-8d89-f8bdbcd0beff",
   "metadata": {},
   "outputs": [],
   "source": []
  }
 ],
 "metadata": {
  "kernelspec": {
   "display_name": "Python [conda env:base] *",
   "language": "python",
   "name": "conda-base-py"
  },
  "language_info": {
   "codemirror_mode": {
    "name": "ipython",
    "version": 3
   },
   "file_extension": ".py",
   "mimetype": "text/x-python",
   "name": "python",
   "nbconvert_exporter": "python",
   "pygments_lexer": "ipython3",
   "version": "3.12.7"
  }
 },
 "nbformat": 4,
 "nbformat_minor": 5
}
