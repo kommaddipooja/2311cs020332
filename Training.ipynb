{
 "cells": [
  {
   "cell_type": "code",
   "execution_count": 1,
   "id": "0bf0c813-7179-4736-9bf3-d7d90fb0ece9",
   "metadata": {},
   "outputs": [
    {
     "data": {
      "text/plain": [
       "67"
      ]
     },
     "execution_count": 1,
     "metadata": {},
     "output_type": "execute_result"
    }
   ],
   "source": [
    "a=67\n",
    "a"
   ]
  },
  {
   "cell_type": "code",
   "execution_count": 3,
   "id": "1eb18292-fc4f-4623-91ce-14c4287a8b7b",
   "metadata": {},
   "outputs": [
    {
     "data": {
      "text/plain": [
       "int"
      ]
     },
     "execution_count": 3,
     "metadata": {},
     "output_type": "execute_result"
    }
   ],
   "source": [
    "type(a)"
   ]
  },
  {
   "cell_type": "code",
   "execution_count": 5,
   "id": "5ca03d49-70bf-4da4-b2aa-1930f231ae5e",
   "metadata": {},
   "outputs": [
    {
     "data": {
      "text/plain": [
       "32.89"
      ]
     },
     "execution_count": 5,
     "metadata": {},
     "output_type": "execute_result"
    }
   ],
   "source": [
    "b=32.89\n",
    "b"
   ]
  },
  {
   "cell_type": "code",
   "execution_count": 7,
   "id": "fb7b3a63-1619-47e0-82de-10932a7dd1bb",
   "metadata": {},
   "outputs": [
    {
     "data": {
      "text/plain": [
       "float"
      ]
     },
     "execution_count": 7,
     "metadata": {},
     "output_type": "execute_result"
    }
   ],
   "source": [
    "type(b)"
   ]
  },
  {
   "cell_type": "code",
   "execution_count": 9,
   "id": "25f3d9be-6659-4c04-a1ac-a855ae0947f4",
   "metadata": {},
   "outputs": [
    {
     "data": {
      "text/plain": [
       "'your name '"
      ]
     },
     "execution_count": 9,
     "metadata": {},
     "output_type": "execute_result"
    }
   ],
   "source": [
    "c='your name '\n",
    "c"
   ]
  },
  {
   "cell_type": "code",
   "execution_count": 11,
   "id": "534c4b7e-a857-4245-9c53-30aefa019897",
   "metadata": {},
   "outputs": [
    {
     "data": {
      "text/plain": [
       "str"
      ]
     },
     "execution_count": 11,
     "metadata": {},
     "output_type": "execute_result"
    }
   ],
   "source": [
    "type(c)"
   ]
  },
  {
   "cell_type": "code",
   "execution_count": 13,
   "id": "bc07197a-43b6-423e-aff9-37c3e849cca4",
   "metadata": {},
   "outputs": [
    {
     "data": {
      "text/plain": [
       "False"
      ]
     },
     "execution_count": 13,
     "metadata": {},
     "output_type": "execute_result"
    }
   ],
   "source": [
    "d=False\n",
    "d"
   ]
  },
  {
   "cell_type": "code",
   "execution_count": 15,
   "id": "9d1c65d6-e919-4a05-ab7f-e3a824f1f7e8",
   "metadata": {},
   "outputs": [
    {
     "data": {
      "text/plain": [
       "bool"
      ]
     },
     "execution_count": 15,
     "metadata": {},
     "output_type": "execute_result"
    }
   ],
   "source": [
    "type(d)"
   ]
  },
  {
   "cell_type": "code",
   "execution_count": 17,
   "id": "2f05f8e5-1efc-4a1e-a5e7-9225d1fe7784",
   "metadata": {},
   "outputs": [
    {
     "data": {
      "text/plain": [
       "'YOUR SURNAME'"
      ]
     },
     "execution_count": 17,
     "metadata": {},
     "output_type": "execute_result"
    }
   ],
   "source": [
    "s='YOUR SURNAME'\n",
    "s"
   ]
  },
  {
   "cell_type": "code",
   "execution_count": 19,
   "id": "59227e5a-59e9-4ee2-8ecc-e51e8706a771",
   "metadata": {},
   "outputs": [
    {
     "data": {
      "text/plain": [
       "str"
      ]
     },
     "execution_count": 19,
     "metadata": {},
     "output_type": "execute_result"
    }
   ],
   "source": [
    "type(s)"
   ]
  },
  {
   "cell_type": "code",
   "execution_count": 21,
   "id": "bc4313f2-b2f7-490a-8703-4b74a15091f6",
   "metadata": {},
   "outputs": [
    {
     "data": {
      "text/plain": [
       "'YOUR SURNAMEyour name '"
      ]
     },
     "execution_count": 21,
     "metadata": {},
     "output_type": "execute_result"
    }
   ],
   "source": [
    "s+c"
   ]
  },
  {
   "cell_type": "code",
   "execution_count": 23,
   "id": "0d93a7f3-5771-484d-b191-484d048219c5",
   "metadata": {},
   "outputs": [
    {
     "data": {
      "text/plain": [
       "67"
      ]
     },
     "execution_count": 23,
     "metadata": {},
     "output_type": "execute_result"
    }
   ],
   "source": [
    "a"
   ]
  },
  {
   "cell_type": "code",
   "execution_count": 25,
   "id": "3fdf8c35-bb45-4091-8a10-8614e45bfdf2",
   "metadata": {},
   "outputs": [
    {
     "data": {
      "text/plain": [
       "32.89"
      ]
     },
     "execution_count": 25,
     "metadata": {},
     "output_type": "execute_result"
    }
   ],
   "source": [
    "b"
   ]
  },
  {
   "cell_type": "code",
   "execution_count": 27,
   "id": "d7a62fea-fe8e-45f5-a3f2-7ade8475b8f0",
   "metadata": {},
   "outputs": [
    {
     "data": {
      "text/plain": [
       "99.89"
      ]
     },
     "execution_count": 27,
     "metadata": {},
     "output_type": "execute_result"
    }
   ],
   "source": [
    "a+b"
   ]
  },
  {
   "cell_type": "code",
   "execution_count": 31,
   "id": "0d50b9fd-e95a-414d-a309-3c3134b1d11b",
   "metadata": {},
   "outputs": [
    {
     "data": {
      "text/plain": [
       "34.11"
      ]
     },
     "execution_count": 31,
     "metadata": {},
     "output_type": "execute_result"
    }
   ],
   "source": [
    "a-b"
   ]
  },
  {
   "cell_type": "markdown",
   "id": "2ce75045-cb71-4d93-b55f-9cd6ed8272a2",
   "metadata": {},
   "source": [
    "# This is python"
   ]
  },
  {
   "cell_type": "markdown",
   "id": "483dd065-9ad3-46d1-8ec4-5e53b1235c83",
   "metadata": {},
   "source": [
    "#### subtraction -\n",
    "### multiplication *\n",
    "### division /\n",
    "### remainder %\n",
    "### power **\n",
    "### // floor division\n"
   ]
  },
  {
   "cell_type": "code",
   "execution_count": null,
   "id": "08b32828-c944-4e7b-be8c-9a34e172303c",
   "metadata": {},
   "outputs": [],
   "source": [
    "a=106\n",
    "b=3"
   ]
  },
  {
   "cell_type": "code",
   "execution_count": 20,
   "id": "c821a704-0366-4356-937a-a3072a84e334",
   "metadata": {},
   "outputs": [
    {
     "data": {
      "text/plain": [
       "112"
      ]
     },
     "execution_count": 20,
     "metadata": {},
     "output_type": "execute_result"
    }
   ],
   "source": [
    "c=a+b\n",
    "c"
   ]
  },
  {
   "cell_type": "code",
   "execution_count": 28,
   "id": "883dcd0c-f150-48f2-8bbb-00361c2a862e",
   "metadata": {},
   "outputs": [
    {
     "data": {
      "text/plain": [
       "int"
      ]
     },
     "execution_count": 28,
     "metadata": {},
     "output_type": "execute_result"
    }
   ],
   "source": [
    "type(c)"
   ]
  },
  {
   "cell_type": "code",
   "execution_count": 22,
   "id": "7158bf24-71bd-4980-992e-9253baa1d62e",
   "metadata": {},
   "outputs": [
    {
     "data": {
      "text/plain": [
       "327"
      ]
     },
     "execution_count": 22,
     "metadata": {},
     "output_type": "execute_result"
    }
   ],
   "source": [
    "d=a*b\n",
    "d"
   ]
  },
  {
   "cell_type": "code",
   "execution_count": 26,
   "id": "cf92dc2f-73ba-4af7-97d7-27e47eef22c7",
   "metadata": {},
   "outputs": [
    {
     "data": {
      "text/plain": [
       "int"
      ]
     },
     "execution_count": 26,
     "metadata": {},
     "output_type": "execute_result"
    }
   ],
   "source": [
    "type(d)"
   ]
  },
  {
   "cell_type": "code",
   "execution_count": 24,
   "id": "33087f79-a8f1-4ccd-ab87-fce9260a59ef",
   "metadata": {},
   "outputs": [
    {
     "data": {
      "text/plain": [
       "36.333333333333336"
      ]
     },
     "execution_count": 24,
     "metadata": {},
     "output_type": "execute_result"
    }
   ],
   "source": [
    "e=a/b\n",
    "e"
   ]
  },
  {
   "cell_type": "code",
   "execution_count": 30,
   "id": "fda1569d-8234-4757-9c59-b01e25f01bc9",
   "metadata": {},
   "outputs": [
    {
     "data": {
      "text/plain": [
       "float"
      ]
     },
     "execution_count": 30,
     "metadata": {},
     "output_type": "execute_result"
    }
   ],
   "source": [
    "type(e)"
   ]
  },
  {
   "cell_type": "code",
   "execution_count": 32,
   "id": "9cf32835-0c64-463c-9dd0-2a010dff63da",
   "metadata": {},
   "outputs": [
    {
     "data": {
      "text/plain": [
       "1295029"
      ]
     },
     "execution_count": 32,
     "metadata": {},
     "output_type": "execute_result"
    }
   ],
   "source": [
    "f=a**b\n",
    "f"
   ]
  },
  {
   "cell_type": "code",
   "execution_count": 34,
   "id": "81514bcd-200d-4be4-b60e-aac778c2bebd",
   "metadata": {},
   "outputs": [
    {
     "data": {
      "text/plain": [
       "int"
      ]
     },
     "execution_count": 34,
     "metadata": {},
     "output_type": "execute_result"
    }
   ],
   "source": [
    "type(f)"
   ]
  },
  {
   "cell_type": "code",
   "execution_count": 36,
   "id": "7b170842-d074-46e2-8daf-209d37a19475",
   "metadata": {},
   "outputs": [
    {
     "data": {
      "text/plain": [
       "1"
      ]
     },
     "execution_count": 36,
     "metadata": {},
     "output_type": "execute_result"
    }
   ],
   "source": [
    "g=a%b\n",
    "g"
   ]
  },
  {
   "cell_type": "code",
   "execution_count": 38,
   "id": "d0546920-f5b9-4bcf-be1a-f50c2015d5a5",
   "metadata": {},
   "outputs": [
    {
     "data": {
      "text/plain": [
       "int"
      ]
     },
     "execution_count": 38,
     "metadata": {},
     "output_type": "execute_result"
    }
   ],
   "source": [
    "type(g)"
   ]
  },
  {
   "cell_type": "code",
   "execution_count": 40,
   "id": "9ed37692-b9a7-46bf-90a6-963ff77c496b",
   "metadata": {},
   "outputs": [
    {
     "data": {
      "text/plain": [
       "106"
      ]
     },
     "execution_count": 40,
     "metadata": {},
     "output_type": "execute_result"
    }
   ],
   "source": [
    "h=a-b\n",
    "h"
   ]
  },
  {
   "cell_type": "code",
   "execution_count": 42,
   "id": "1ba1fe02-512f-49c1-af5a-72f6adf22680",
   "metadata": {},
   "outputs": [
    {
     "data": {
      "text/plain": [
       "int"
      ]
     },
     "execution_count": 42,
     "metadata": {},
     "output_type": "execute_result"
    }
   ],
   "source": [
    "type(h)"
   ]
  },
  {
   "cell_type": "code",
   "execution_count": 46,
   "id": "8c570af2-249d-454a-b6ae-861dd3c9cf8e",
   "metadata": {},
   "outputs": [
    {
     "data": {
      "text/plain": [
       "(109, 3, 112, 327, 36.333333333333336, 1295029, 1)"
      ]
     },
     "execution_count": 46,
     "metadata": {},
     "output_type": "execute_result"
    }
   ],
   "source": [
    "a,b,c,d,e,f,g"
   ]
  },
  {
   "cell_type": "code",
   "execution_count": 44,
   "id": "bd53592a-42b2-436a-893b-68c82f45625f",
   "metadata": {},
   "outputs": [
    {
     "data": {
      "text/plain": [
       "2.0"
      ]
     },
     "execution_count": 44,
     "metadata": {},
     "output_type": "execute_result"
    }
   ],
   "source": [
    "4**0.5"
   ]
  },
  {
   "cell_type": "code",
   "execution_count": 62,
   "id": "d39aa799-1f11-49e2-bf17-ef1a7c660451",
   "metadata": {},
   "outputs": [],
   "source": [
    "a=45\n",
    "b=32"
   ]
  },
  {
   "cell_type": "code",
   "execution_count": 64,
   "id": "28af47f2-7c2e-4d1b-8485-75d36636a0f4",
   "metadata": {},
   "outputs": [
    {
     "data": {
      "text/plain": [
       "True"
      ]
     },
     "execution_count": 64,
     "metadata": {},
     "output_type": "execute_result"
    }
   ],
   "source": [
    "a>b"
   ]
  },
  {
   "cell_type": "code",
   "execution_count": 66,
   "id": "8efa570a-b5b5-4a8a-b572-d5276ed266a9",
   "metadata": {},
   "outputs": [
    {
     "data": {
      "text/plain": [
       "False"
      ]
     },
     "execution_count": 66,
     "metadata": {},
     "output_type": "execute_result"
    }
   ],
   "source": [
    "a<b"
   ]
  },
  {
   "cell_type": "code",
   "execution_count": 68,
   "id": "4834f822-344d-4076-8339-ecb700e36d9d",
   "metadata": {},
   "outputs": [
    {
     "data": {
      "text/plain": [
       "False"
      ]
     },
     "execution_count": 68,
     "metadata": {},
     "output_type": "execute_result"
    }
   ],
   "source": [
    "a<=b"
   ]
  },
  {
   "cell_type": "code",
   "execution_count": 70,
   "id": "da2c3b7f-d397-43ed-a92e-4a2416120dc9",
   "metadata": {},
   "outputs": [
    {
     "data": {
      "text/plain": [
       "True"
      ]
     },
     "execution_count": 70,
     "metadata": {},
     "output_type": "execute_result"
    }
   ],
   "source": [
    "a>=b"
   ]
  },
  {
   "cell_type": "code",
   "execution_count": 72,
   "id": "35569275-865f-4984-b293-d3d34255cc78",
   "metadata": {},
   "outputs": [
    {
     "data": {
      "text/plain": [
       "False"
      ]
     },
     "execution_count": 72,
     "metadata": {},
     "output_type": "execute_result"
    }
   ],
   "source": [
    "a==b"
   ]
  },
  {
   "cell_type": "code",
   "execution_count": 74,
   "id": "2580940d-2d19-4b4b-845b-09102cb125d4",
   "metadata": {},
   "outputs": [
    {
     "data": {
      "text/plain": [
       "True"
      ]
     },
     "execution_count": 74,
     "metadata": {},
     "output_type": "execute_result"
    }
   ],
   "source": [
    "a!=b"
   ]
  },
  {
   "cell_type": "code",
   "execution_count": 76,
   "id": "841d6f87-5fd8-47a1-a349-98b311010357",
   "metadata": {},
   "outputs": [
    {
     "data": {
      "text/plain": [
       "False"
      ]
     },
     "execution_count": 76,
     "metadata": {},
     "output_type": "execute_result"
    }
   ],
   "source": [
    "6!=3*2"
   ]
  },
  {
   "cell_type": "code",
   "execution_count": 78,
   "id": "d2b7f946-0250-4dc4-a8d8-f43605adfaf3",
   "metadata": {},
   "outputs": [
    {
     "data": {
      "text/plain": [
       "True"
      ]
     },
     "execution_count": 78,
     "metadata": {},
     "output_type": "execute_result"
    }
   ],
   "source": [
    "6==3*2"
   ]
  },
  {
   "cell_type": "code",
   "execution_count": null,
   "id": "74229aef-4688-46df-baab-83fc0973a1c8",
   "metadata": {},
   "outputs": [],
   "source": [
    "# logical operations"
   ]
  },
  {
   "cell_type": "code",
   "execution_count": null,
   "id": "5608fab7-6181-4cf9-ac42-3af27af33f68",
   "metadata": {},
   "outputs": [],
   "source": [
    "AND\n",
    "T AND T = T\n",
    "T AND F = F\n",
    "F AND T = F\n",
    "F AND F = F"
   ]
  },
  {
   "cell_type": "code",
   "execution_count": null,
   "id": "f2f981f5-e009-4d36-a13b-9605e2485273",
   "metadata": {},
   "outputs": [],
   "source": [
    "OR\n",
    "T OR T = T\n",
    "T OR T = T\n",
    "T OR T = T\n",
    "F OR F = F"
   ]
  },
  {
   "cell_type": "code",
   "execution_count": null,
   "id": "68326f8f-50a1-497e-a75f-77d9611ba8be",
   "metadata": {},
   "outputs": [],
   "source": [
    "NOT\n",
    "T = T\n",
    "F = F"
   ]
  },
  {
   "cell_type": "code",
   "execution_count": 84,
   "id": "88281f5d-81e3-4c29-9eba-3b192ef60d1c",
   "metadata": {},
   "outputs": [],
   "source": [
    "a=10\n",
    "b=30"
   ]
  },
  {
   "cell_type": "code",
   "execution_count": 86,
   "id": "60862675-534d-4ed9-8cad-40ab8c7fa796",
   "metadata": {},
   "outputs": [
    {
     "data": {
      "text/plain": [
       "True"
      ]
     },
     "execution_count": 86,
     "metadata": {},
     "output_type": "execute_result"
    }
   ],
   "source": [
    "a>6"
   ]
  },
  {
   "cell_type": "code",
   "execution_count": 88,
   "id": "11049ff6-059f-4653-b341-3d0df7032c62",
   "metadata": {},
   "outputs": [
    {
     "data": {
      "text/plain": [
       "False"
      ]
     },
     "execution_count": 88,
     "metadata": {},
     "output_type": "execute_result"
    }
   ],
   "source": [
    "b>80"
   ]
  },
  {
   "cell_type": "code",
   "execution_count": 90,
   "id": "50c810bf-e31a-4c7f-98c8-70d38cb9ff1d",
   "metadata": {},
   "outputs": [
    {
     "data": {
      "text/plain": [
       "False"
      ]
     },
     "execution_count": 90,
     "metadata": {},
     "output_type": "execute_result"
    }
   ],
   "source": [
    "d>=10 and d<=30"
   ]
  },
  {
   "cell_type": "code",
   "execution_count": 92,
   "id": "07388690-4c37-494f-9d92-700781d9f7b5",
   "metadata": {},
   "outputs": [
    {
     "data": {
      "text/plain": [
       "True"
      ]
     },
     "execution_count": 92,
     "metadata": {},
     "output_type": "execute_result"
    }
   ],
   "source": [
    "d>=10 or d<=30"
   ]
  },
  {
   "cell_type": "code",
   "execution_count": 96,
   "id": "52123a06-a183-4ad1-bd21-ae42ff21f3d0",
   "metadata": {},
   "outputs": [
    {
     "data": {
      "text/plain": [
       "True"
      ]
     },
     "execution_count": 96,
     "metadata": {},
     "output_type": "execute_result"
    }
   ],
   "source": [
    "not a>b"
   ]
  },
  {
   "cell_type": "code",
   "execution_count": 98,
   "id": "60fdd55a-9e54-448a-89e6-e0b3b9601455",
   "metadata": {},
   "outputs": [],
   "source": [
    "d=8.4"
   ]
  },
  {
   "cell_type": "code",
   "execution_count": 100,
   "id": "673d5c2d-3837-4f57-b987-cb45a881ab0b",
   "metadata": {},
   "outputs": [
    {
     "data": {
      "text/plain": [
       "True"
      ]
     },
     "execution_count": 100,
     "metadata": {},
     "output_type": "execute_result"
    }
   ],
   "source": [
    "d>=8.1 or d<=9.0"
   ]
  },
  {
   "cell_type": "code",
   "execution_count": 1,
   "id": "e8aec5cc-a715-42ee-a402-c240baff7258",
   "metadata": {},
   "outputs": [
    {
     "name": "stdin",
     "output_type": "stream",
     "text": [
      "ENTER CGPA 9.0\n"
     ]
    }
   ],
   "source": [
    "cgpa=float(input('ENTER CGPA'))"
   ]
  },
  {
   "cell_type": "code",
   "execution_count": 3,
   "id": "68c72781-f6bd-4009-8766-508f4c090e06",
   "metadata": {},
   "outputs": [
    {
     "data": {
      "text/plain": [
       "9.0"
      ]
     },
     "execution_count": 3,
     "metadata": {},
     "output_type": "execute_result"
    }
   ],
   "source": [
    "cgpa"
   ]
  },
  {
   "cell_type": "code",
   "execution_count": 11,
   "id": "06794455-7e19-47bf-99aa-7e2004c9fbe6",
   "metadata": {},
   "outputs": [
    {
     "data": {
      "text/plain": [
       "[23, 54, 45, 26]"
      ]
     },
     "execution_count": 11,
     "metadata": {},
     "output_type": "execute_result"
    }
   ],
   "source": [
    "a=[23,54,45,26]\n",
    "a"
   ]
  },
  {
   "cell_type": "code",
   "execution_count": 13,
   "id": "4b03d3c0-2d25-4e3f-9e8b-fe80191737a5",
   "metadata": {},
   "outputs": [
    {
     "data": {
      "text/plain": [
       "list"
      ]
     },
     "execution_count": 13,
     "metadata": {},
     "output_type": "execute_result"
    }
   ],
   "source": [
    "type(a)"
   ]
  },
  {
   "cell_type": "code",
   "execution_count": 15,
   "id": "bc5d1243-8642-4af2-b667-62eb82f4b0bb",
   "metadata": {},
   "outputs": [
    {
     "data": {
      "text/plain": [
       "[340, 80.45, 'data', True]"
      ]
     },
     "execution_count": 15,
     "metadata": {},
     "output_type": "execute_result"
    }
   ],
   "source": [
    "c=[340,80.45,'data',True]\n",
    "c"
   ]
  },
  {
   "cell_type": "code",
   "execution_count": 17,
   "id": "b0f6929a-7b4d-4360-92d7-93c120c2c1c1",
   "metadata": {},
   "outputs": [
    {
     "data": {
      "text/plain": [
       "340"
      ]
     },
     "execution_count": 17,
     "metadata": {},
     "output_type": "execute_result"
    }
   ],
   "source": [
    "c[0]"
   ]
  },
  {
   "cell_type": "code",
   "execution_count": 19,
   "id": "b78be130-9af9-4a1b-9e71-54819f942f9e",
   "metadata": {},
   "outputs": [
    {
     "data": {
      "text/plain": [
       "80.45"
      ]
     },
     "execution_count": 19,
     "metadata": {},
     "output_type": "execute_result"
    }
   ],
   "source": [
    "c[1]"
   ]
  },
  {
   "cell_type": "code",
   "execution_count": 25,
   "id": "1b3ddfa3-2849-491c-972e-a088fbdf99f2",
   "metadata": {},
   "outputs": [
    {
     "data": {
      "text/plain": [
       "[80.45]"
      ]
     },
     "execution_count": 25,
     "metadata": {},
     "output_type": "execute_result"
    }
   ],
   "source": [
    "c[1:2]"
   ]
  },
  {
   "cell_type": "code",
   "execution_count": 27,
   "id": "bb29f555-1dee-4b61-8d56-e758380b73c8",
   "metadata": {},
   "outputs": [
    {
     "data": {
      "text/plain": [
       "[340]"
      ]
     },
     "execution_count": 27,
     "metadata": {},
     "output_type": "execute_result"
    }
   ],
   "source": [
    "c[0:1:2]"
   ]
  },
  {
   "cell_type": "code",
   "execution_count": 1,
   "id": "4b7dd2d1-d292-41c4-ac99-b58119201df8",
   "metadata": {},
   "outputs": [
    {
     "data": {
      "text/plain": [
       "['data', True, 80.45, 120, 'goa', 45, 90, 16, False]"
      ]
     },
     "execution_count": 1,
     "metadata": {},
     "output_type": "execute_result"
    }
   ],
   "source": [
    "d=['data',True,80.45,120,'goa',45,90,16,False]\n",
    "d"
   ]
  },
  {
   "cell_type": "code",
   "execution_count": 5,
   "id": "9882c49b-1fd2-490b-baa9-e7921d1d9e41",
   "metadata": {},
   "outputs": [
    {
     "data": {
      "text/plain": [
       "120"
      ]
     },
     "execution_count": 5,
     "metadata": {},
     "output_type": "execute_result"
    }
   ],
   "source": [
    "d[-6]"
   ]
  },
  {
   "cell_type": "code",
   "execution_count": 9,
   "id": "408edd6a-c552-4f1b-b4f4-0818517a2df5",
   "metadata": {},
   "outputs": [
    {
     "data": {
      "text/plain": [
       "[90, 45, 'goa', 120, 80.45]"
      ]
     },
     "execution_count": 9,
     "metadata": {},
     "output_type": "execute_result"
    }
   ],
   "source": [
    "d[-3:-8:-1]"
   ]
  },
  {
   "cell_type": "code",
   "execution_count": 19,
   "id": "12907624-b477-46c3-9185-0857cd8bbb32",
   "metadata": {},
   "outputs": [
    {
     "data": {
      "text/plain": [
       "[45, 'goa', 120, 80.45]"
      ]
     },
     "execution_count": 19,
     "metadata": {},
     "output_type": "execute_result"
    }
   ],
   "source": [
    "d[-4:-8:-1]"
   ]
  },
  {
   "cell_type": "code",
   "execution_count": 23,
   "id": "3232187e-72a5-4884-9de4-7b4a115e3605",
   "metadata": {},
   "outputs": [
    {
     "data": {
      "text/plain": [
       "[]"
      ]
     },
     "execution_count": 23,
     "metadata": {},
     "output_type": "execute_result"
    }
   ],
   "source": [
    "d[6:2]"
   ]
  },
  {
   "cell_type": "code",
   "execution_count": 25,
   "id": "873ca99f-8bad-4d05-ae6f-91342478f38b",
   "metadata": {},
   "outputs": [
    {
     "data": {
      "text/plain": [
       "[80.45, 120, 'goa', 45]"
      ]
     },
     "execution_count": 25,
     "metadata": {},
     "output_type": "execute_result"
    }
   ],
   "source": [
    "d[2:6]"
   ]
  },
  {
   "cell_type": "markdown",
   "id": "f11039eb-5347-4e72-bbba-097ad199300a",
   "metadata": {},
   "source": [
    "### list methods"
   ]
  },
  {
   "cell_type": "code",
   "execution_count": null,
   "id": "c1b483c5-3d46-4d6d-9613-174e6ab0c78e",
   "metadata": {},
   "outputs": [],
   "source": [
    "append\n",
    "insert\n",
    "extend\n",
    "pop\n",
    "remove\n",
    "clear\n",
    "count"
   ]
  },
  {
   "cell_type": "code",
   "execution_count": 30,
   "id": "8abfa2c4-e8e4-4a18-950c-3331b5451e7b",
   "metadata": {},
   "outputs": [
    {
     "data": {
      "text/plain": [
       "['data', True, 80.45, 120, 'goa', 45, 90, 16, False]"
      ]
     },
     "execution_count": 30,
     "metadata": {},
     "output_type": "execute_result"
    }
   ],
   "source": [
    "e=['data',True,80.45,120,'goa',45,90,16,False]\n",
    "e"
   ]
  },
  {
   "cell_type": "code",
   "execution_count": 32,
   "id": "3e7fec21-42e8-415e-9870-dc7683d8b240",
   "metadata": {},
   "outputs": [],
   "source": [
    "e.append(45)"
   ]
  },
  {
   "cell_type": "code",
   "execution_count": 34,
   "id": "76db0cc6-60d7-4bf7-881a-c7b5e3212e8d",
   "metadata": {},
   "outputs": [
    {
     "data": {
      "text/plain": [
       "['data', True, 80.45, 120, 'goa', 45, 90, 16, False, 45]"
      ]
     },
     "execution_count": 34,
     "metadata": {},
     "output_type": "execute_result"
    }
   ],
   "source": [
    "e"
   ]
  },
  {
   "cell_type": "code",
   "execution_count": 40,
   "id": "12a70770-3bfc-4914-a72d-5bbe6a7be659",
   "metadata": {},
   "outputs": [],
   "source": [
    "e.insert(1,90)"
   ]
  },
  {
   "cell_type": "code",
   "execution_count": 42,
   "id": "82cf4798-49eb-4a2b-8d92-6fc29eb0aed2",
   "metadata": {},
   "outputs": [
    {
     "data": {
      "text/plain": [
       "['data', 90, True, 80.45, 120, 'goa', 45, 90, 16, False, 45]"
      ]
     },
     "execution_count": 42,
     "metadata": {},
     "output_type": "execute_result"
    }
   ],
   "source": [
    "e"
   ]
  },
  {
   "cell_type": "markdown",
   "id": "a9d66405-a30b-4809-83f4-fc4e0fc93c11",
   "metadata": {},
   "source": [
    "#### 1 as index 90 as the inserting elements"
   ]
  },
  {
   "cell_type": "code",
   "execution_count": 45,
   "id": "71d3a331-caa4-4279-87f8-972c86cb1d2e",
   "metadata": {},
   "outputs": [],
   "source": [
    "e.remove(45)"
   ]
  },
  {
   "cell_type": "code",
   "execution_count": 47,
   "id": "a02ec064-d406-4993-b918-44a8312fcb11",
   "metadata": {},
   "outputs": [
    {
     "data": {
      "text/plain": [
       "['data', 90, True, 80.45, 120, 'goa', 90, 16, False, 45]"
      ]
     },
     "execution_count": 47,
     "metadata": {},
     "output_type": "execute_result"
    }
   ],
   "source": [
    "e"
   ]
  },
  {
   "cell_type": "code",
   "execution_count": 51,
   "id": "15cd7913-34d2-4615-b2d9-f740ee9c3560",
   "metadata": {},
   "outputs": [
    {
     "data": {
      "text/plain": [
       "80.45"
      ]
     },
     "execution_count": 51,
     "metadata": {},
     "output_type": "execute_result"
    }
   ],
   "source": [
    "e.pop(3)"
   ]
  },
  {
   "cell_type": "code",
   "execution_count": 71,
   "id": "c4285bce-0598-4d60-a88c-72d8ae22705d",
   "metadata": {},
   "outputs": [
    {
     "data": {
      "text/plain": [
       "0"
      ]
     },
     "execution_count": 71,
     "metadata": {},
     "output_type": "execute_result"
    }
   ],
   "source": [
    "e.count(120)"
   ]
  },
  {
   "cell_type": "markdown",
   "id": "62adbbc3-3ca6-4799-9eb7-6e254d9a282c",
   "metadata": {},
   "source": [
    "#### In the pop function we use the index number and it shows the removed elements"
   ]
  },
  {
   "cell_type": "code",
   "execution_count": 58,
   "id": "06935587-4ac1-4697-9565-237ed41e3123",
   "metadata": {},
   "outputs": [],
   "source": [
    "e.clear()"
   ]
  },
  {
   "cell_type": "code",
   "execution_count": 60,
   "id": "7647b12f-5823-4e24-898c-db6c818d90fb",
   "metadata": {},
   "outputs": [
    {
     "data": {
      "text/plain": [
       "[]"
      ]
     },
     "execution_count": 60,
     "metadata": {},
     "output_type": "execute_result"
    }
   ],
   "source": [
    "e"
   ]
  },
  {
   "cell_type": "code",
   "execution_count": 62,
   "id": "fbc80483-5fef-45ee-bc63-37b8faf0bd2a",
   "metadata": {},
   "outputs": [
    {
     "data": {
      "text/plain": [
       "list"
      ]
     },
     "execution_count": 62,
     "metadata": {},
     "output_type": "execute_result"
    }
   ],
   "source": [
    "type(e)"
   ]
  },
  {
   "cell_type": "markdown",
   "id": "ed367945-df95-4b73-8240-8ae1363281c4",
   "metadata": {},
   "source": [
    "#### the clear function clear the elements in the list"
   ]
  },
  {
   "cell_type": "code",
   "execution_count": 75,
   "id": "c597f931-7030-4aaf-92e4-ddc4789f8de9",
   "metadata": {},
   "outputs": [
    {
     "data": {
      "text/plain": [
       "['data', True, 80.45, 120, 'goa', 45, 90, 16, False]"
      ]
     },
     "execution_count": 75,
     "metadata": {},
     "output_type": "execute_result"
    }
   ],
   "source": [
    "f=['data',True,80.45,120,'goa',45,90,16,False]\n",
    "f"
   ]
  },
  {
   "cell_type": "code",
   "execution_count": 77,
   "id": "c9633f9c-dc14-4298-a74c-75eb81533df1",
   "metadata": {},
   "outputs": [
    {
     "data": {
      "text/plain": [
       "1"
      ]
     },
     "execution_count": 77,
     "metadata": {},
     "output_type": "execute_result"
    }
   ],
   "source": [
    "f.count(120)"
   ]
  },
  {
   "cell_type": "code",
   "execution_count": 3,
   "id": "5f3b8146-0b7f-4439-a84e-a4b97f474b78",
   "metadata": {},
   "outputs": [
    {
     "ename": "NameError",
     "evalue": "name 'f' is not defined",
     "output_type": "error",
     "traceback": [
      "\u001b[1;31m---------------------------------------------------------------------------\u001b[0m",
      "\u001b[1;31mNameError\u001b[0m                                 Traceback (most recent call last)",
      "Cell \u001b[1;32mIn[3], line 1\u001b[0m\n\u001b[1;32m----> 1\u001b[0m f\u001b[38;5;241m.\u001b[39mindex(\u001b[38;5;241m90\u001b[39m)\n",
      "\u001b[1;31mNameError\u001b[0m: name 'f' is not defined"
     ]
    }
   ],
   "source": [
    "f.index(90)"
   ]
  },
  {
   "cell_type": "code",
   "execution_count": null,
   "id": "b0b31421-94fa-4eee-93ce-aadd695c1647",
   "metadata": {},
   "outputs": [],
   "source": []
  }
 ],
 "metadata": {
  "kernelspec": {
   "display_name": "Python [conda env:base] *",
   "language": "python",
   "name": "conda-base-py"
  },
  "language_info": {
   "codemirror_mode": {
    "name": "ipython",
    "version": 3
   },
   "file_extension": ".py",
   "mimetype": "text/x-python",
   "name": "python",
   "nbconvert_exporter": "python",
   "pygments_lexer": "ipython3",
   "version": "3.12.7"
  }
 },
 "nbformat": 4,
 "nbformat_minor": 5
}
